{
 "cells": [
  {
   "cell_type": "code",
   "execution_count": 182,
   "metadata": {
    "collapsed": true
   },
   "outputs": [],
   "source": [
    "import pandas as pd\n",
    "import numpy as np\n",
    "import matplotlib.pyplot as plt\n",
    "from matplotlib.ticker import NullFormatter"
   ]
  },
  {
   "cell_type": "code",
   "execution_count": 183,
   "metadata": {
    "collapsed": true
   },
   "outputs": [],
   "source": [
    "# convert csv data into pandas dataframe\n",
    "file = 'sfpd_dispatch_data_subset.csv'\n",
    "pdf = pd.read_csv(file)"
   ]
  },
  {
   "cell_type": "code",
   "execution_count": 184,
   "metadata": {
    "collapsed": true
   },
   "outputs": [],
   "source": [
    "# work with new copy of dataframe for analysis of address, time, dispatch type\n",
    "dfg2 = pdf\n"
   ]
  },
  {
   "cell_type": "code",
   "execution_count": 185,
   "metadata": {},
   "outputs": [
    {
     "name": "stderr",
     "output_type": "stream",
     "text": [
      "/Developer/anaconda3/lib/python3.6/site-packages/matplotlib/pyplot.py:523: RuntimeWarning: More than 20 figures have been opened. Figures created through the pyplot interface (`matplotlib.pyplot.figure`) are retained until explicitly closed and may consume too much memory. (To control this warning, see the rcParam `figure.max_open_warning`).\n",
      "  max_open_warning, RuntimeWarning)\n",
      "/Developer/anaconda3/lib/python3.6/site-packages/numpy/core/fromnumeric.py:57: FutureWarning: reshape is deprecated and will raise in a subsequent release. Please use .values.reshape(...) instead\n",
      "  return getattr(obj, method)(*args, **kwds)\n"
     ]
    }
   ],
   "source": [
    "# work with new copy of dataframe to analyze relationship between location & time taken to dispatch\n",
    "\n",
    "# analyze locations based on zip code\n",
    "dfg3 = pdf\n",
    "cols = list(dfg3)\n",
    "l = ['zipcode_of_incident', 'station_area', 'entry_timestamp', 'on_scene_timestamp']\n",
    "for i in range(0, len(l)): cols.remove(l[i])\n",
    "# cols is now a list of all the columns in the df that must be removed\n",
    "\n",
    "# cleanse data to only include: zip code, station_area, entry_timestamp, on_scene_timestamp\n",
    "dfg3 = dfg3.drop(cols, axis=1)\n",
    "# cleansing data of time values that are NaN\n",
    "dfg3 = dfg3.dropna(subset=['on_scene_timestamp', 'entry_timestamp'])\n",
    "\n",
    "# create column of time taken to dispatch (difference between received and on_scene timestamps)\n",
    "dfg3['entry_timestamp'] = pd.to_datetime(dfg3['entry_timestamp'])\n",
    "dfg3['on_scene_timestamp'] = pd.to_datetime(dfg3['on_scene_timestamp'])\n",
    "dfg3['dispatch_time'] = (dfg3['on_scene_timestamp'] - dfg3['entry_timestamp'])\n",
    "dfg3['dispatch_time'] = dfg3['dispatch_time'].astype('timedelta64[m]')\n",
    "\n",
    "\n",
    "bp = dfg3.boxplot(by='station_area', column='dispatch_time', fontsize=20, grid=False, figsize=(30,20))\n",
    "fig = np.asarray(bp).reshape(-1)[0].get_figure()\n",
    "fig.suptitle('', fontsize=30)\n",
    "plt.title(\"Dispatch Time by Station Areas\", fontsize=30)\n",
    "plt.xlabel('Station Area', fontsize=30)\n",
    "plt.ylabel('Dispatch Time in Minutes', fontsize=30)\n",
    "#eliminating extreme outliers to better visualize greater quantity of data\n",
    "plt.ylim(0, 80)\n",
    "plt.savefig(\"station_time\", dpi='figure')\n",
    "\n",
    "dfg3.boxplot(column='dispatch_time', by='zipcode_of_incident', fontsize=18, grid=False, figsize=(40,15))\n",
    "fig = np.asarray(bp).reshape(-1)[0].get_figure()\n",
    "fig.suptitle('')\n",
    "plt.title(\"Dispatch Time by Zip Code\", fontsize=30)\n",
    "plt.xlabel('Zip Code of Incident', fontsize=30)\n",
    "plt.ylabel('Dispatch Time in Minutes', fontsize=30)\n",
    "#eliminating extreme outliers to better visualize greater quantity of data\n",
    "plt.ylim(0, 100)\n",
    "plt.savefig(\"zip_time\", dpi='figure')\n"
   ]
  },
  {
   "cell_type": "code",
   "execution_count": 188,
   "metadata": {},
   "outputs": [
    {
     "name": "stderr",
     "output_type": "stream",
     "text": [
      "/Developer/anaconda3/lib/python3.6/site-packages/matplotlib/pyplot.py:523: RuntimeWarning: More than 20 figures have been opened. Figures created through the pyplot interface (`matplotlib.pyplot.figure`) are retained until explicitly closed and may consume too much memory. (To control this warning, see the rcParam `figure.max_open_warning`).\n",
      "  max_open_warning, RuntimeWarning)\n"
     ]
    }
   ],
   "source": [
    "# work with new copy of dataframe to analyze relationship between location, dispatch type, increase in dispatch calls\n",
    "# areas experiencing the greatest increase in dispatch calls\n",
    "\n",
    "dfgb = pdf\n",
    "cols = list(dfgb)\n",
    "l = ['zipcode_of_incident', 'entry_timestamp', 'box', 'address', 'station_area', 'unit_type']\n",
    "for i in range(0, len(l)): cols.remove(l[i])\n",
    "# cols is now a list of all the columns in the df that must be removed\n",
    "\n",
    "# cleanse data to only include: 'zipcode_of_incident', 'entrey_timestamp', 'box', 'address', 'station_area', 'unit_type', 'call_type_group'\n",
    "dfgb = dfgb.drop(cols, axis=1)\n",
    "dfgb['entry_timestamp'] = pd.to_datetime(dfgb['entry_timestamp'])\n",
    "increasez = pd.DataFrame(columns=['zip_code', 'day', 'frequency'])\n",
    "increasez['day'] = (dfgb['entry_timestamp']).dt.date\n",
    "increasez['zip_code'] = dfgb['zipcode_of_incident']\n",
    "increasez = increasez.groupby(['zip_code','day']).size().to_frame(name='frequency')\n",
    "changez = pd.DataFrame(columns=['zip_code', 'increase'])\n",
    "prevz = 1\n",
    "curz = 0\n",
    "curlow = 0\n",
    "curhigh = 0\n",
    "for index, row in increasez.iterrows():\n",
    "    curz = index[0]\n",
    "    if (curz==prevz):\n",
    "        cur = row.frequency\n",
    "        if (cur<curlow): curlow = cur\n",
    "        elif (cur>curhigh): curhigh=cur\n",
    "    else: \n",
    "        changez.set_value(prevz, 'zip_code', prevz)\n",
    "        if (curlow!=0): changez.set_value(prevz, 'increase', (((curhigh-curlow)/curlow)*100))\n",
    "        else: changez.set_value(prevz, 'increase', 0)\n",
    "        curlow = row.frequency\n",
    "        curhigh = row.frequency\n",
    "    prevz = curz\n",
    "changez = changez.drop(labels=1, axis=0)\n",
    "changez = changez.drop(changez[changez.increase < 100].index)\n",
    "zips = changez['zip_code'].tolist()\n",
    "# changez.plot(x='zip_code', y='increase', kind='bar', figsize=(50,30), fontsize=40)\n",
    "# plt.xlabel('San Francisco Zip Code', fontsize=50, labelpad=30)\n",
    "# plt.ylabel('Increase in Dispatch Calls (%)', fontsize=50, labelpad=30)\n",
    "# plt.suptitle('Increase in Dispatch Calls by Zip Code', fontsize=50, verticalalignment='top')\n",
    "# plt.savefig(\"increase_zip\")\n",
    "\n",
    "increaseb = pd.DataFrame(columns=['box', 'day', 'frequency'])\n",
    "increaseb['day'] = (dfgb['entry_timestamp']).dt.date\n",
    "increaseb['box'] = dfgb['box']\n",
    "increaseb = increaseb.groupby(['box','day']).size().to_frame(name='frequency')\n",
    "changeb = pd.DataFrame(columns=['box', 'increase'])\n",
    "prevb = 1\n",
    "curb = 0\n",
    "curlow = 0\n",
    "curhigh = 0\n",
    "for index, row in increaseb.iterrows():\n",
    "    curb = index[0]\n",
    "    if (curb==prevb):\n",
    "        cur = row.frequency\n",
    "        if (cur<curlow): curlow = cur\n",
    "        elif (cur>curhigh): curhigh=cur\n",
    "    else: \n",
    "        changeb.set_value(prevb, 'box', prevb)\n",
    "        if (curlow!=0): changeb.set_value(prevb, 'increase', (((curhigh-curlow)/curlow)*100))\n",
    "        else: changeb.set_value(prevb, 'increase', 0)\n",
    "        curlow = row.frequency\n",
    "        curhigh = row.frequency\n",
    "    prevb = curb\n",
    "changeb = changeb.drop(labels=1, axis=0)\n",
    "changeb = changeb.drop(changeb[changeb.increase < 1000].index)\n",
    "boxs = changeb['box'].tolist()\n",
    "changeb.plot(x='box', y='increase', kind='bar', figsize=(50,30), fontsize=40)\n",
    "plt.xlabel('San Francisco Box', fontsize=50, labelpad=30)\n",
    "plt.ylabel('Increase in Dispatch Calls (%)', fontsize=50, labelpad=30)\n",
    "plt.suptitle('Increase in Dispatch Calls by Box Area', fontsize=50, verticalalignment='top')\n",
    "plt.savefig(\"increase_box\")\n",
    "\n",
    "# based on highest zip frequency, what is highest unit_type frequency\n",
    "typez = pd.DataFrame(columns=['zip_code', 'day', 'frequency', 'type'])\n",
    "typez['day'] = (dfgb['entry_timestamp']).dt.date\n",
    "typez['zip_code'] = dfgb['zipcode_of_incident']\n",
    "typez['type']=dfgb['unit_type']\n",
    "typez = typez.groupby(['zip_code','type']).size().to_frame(name='frequency')\n",
    "for i,r in typez.iterrows():\n",
    "    if (i[0] not in zips): typez = typez.drop(i)\n",
    "cur = 0\n",
    "prev = 1\n",
    "high = 0\n",
    "mostz = pd.DataFrame(columns=['zip_code', 'type'])\n",
    "t=0\n",
    "for i,r in typez.iterrows():  \n",
    "    cur = i[0]\n",
    "    if (cur==prev):\n",
    "        if (r.frequency>high): \n",
    "            high=r.frequency\n",
    "            t = i[1]\n",
    "    else:\n",
    "        mostz.set_value(prev, 'zip_code', prev)\n",
    "        mostz.set_value(prev, 'type', t)\n",
    "        \n",
    "        high = r.frequency\n",
    "        t = i[1]\n",
    "    prev=cur\n",
    "mostz = mostz.drop(labels=1, axis=0)\n",
    "x=mostz.style\n",
    "\n",
    "# based on highest box call frequency, what is highest unit_type frequency\n",
    "typeb = pd.DataFrame(columns=['box', 'day', 'frequency', 'type'])\n",
    "typeb['day'] = (dfgb['entry_timestamp']).dt.date\n",
    "typeb['box'] = dfgb['box']\n",
    "typeb['type']=dfgb['unit_type']\n",
    "typeb = typeb.groupby(['box','type']).size().to_frame(name='frequency')\n",
    "for i,r in typeb.iterrows():\n",
    "    if (i[0] not in boxs): typeb = typeb.drop(i)\n",
    "cur = 0\n",
    "prev = 1\n",
    "high = 0\n",
    "mostb = pd.DataFrame(columns=['box', 'type'])\n",
    "t=0\n",
    "for i,r in typeb.iterrows():  \n",
    "    cur = i[0]\n",
    "    if (cur==prev):\n",
    "        if (r.frequency>high): \n",
    "            high=r.frequency\n",
    "            t = i[1]\n",
    "    else:\n",
    "        mostb.set_value(prev, 'box', prev)\n",
    "        mostb.set_value(prev, 'type', t)\n",
    "        high = r.frequency\n",
    "        t = i[1]\n",
    "    prev=cur\n",
    "mostb = mostb.drop(labels=1, axis=0)\n",
    "y=mostb.style\n"
   ]
  },
  {
   "cell_type": "code",
   "execution_count": 239,
   "metadata": {},
   "outputs": [
    {
     "name": "stdout",
     "output_type": "stream",
     "text": [
      "{'TRUCK', 'ENGINE', 'RESCUE CAPTAIN', 'RESCUE SQUAD', 'PRIVATE', 'INVESTIGATION', 'SUPPORT', 'CHIEF', 'MEDIC'}\n",
      "37.8316662304\n",
      "-122.365138272\n",
      "37.7086491718\n",
      "-122.513648359\n",
      "<bound method Series.tolist of 0       15.0\n",
      "1       13.0\n",
      "2        4.0\n",
      "3        3.0\n",
      "4        3.0\n",
      "5        4.0\n",
      "6       10.0\n",
      "7        6.0\n",
      "8        5.0\n",
      "9        4.0\n",
      "10      17.0\n",
      "11      14.0\n",
      "12       5.0\n",
      "13       9.0\n",
      "14       5.0\n",
      "15       5.0\n",
      "16       5.0\n",
      "17       8.0\n",
      "18       6.0\n",
      "20       5.0\n",
      "21       3.0\n",
      "22       3.0\n",
      "23      10.0\n",
      "24       6.0\n",
      "25       5.0\n",
      "26       4.0\n",
      "28       7.0\n",
      "29       2.0\n",
      "30       3.0\n",
      "31       3.0\n",
      "        ... \n",
      "9959    15.0\n",
      "9960     4.0\n",
      "9962    14.0\n",
      "9963     4.0\n",
      "9965    17.0\n",
      "9967     3.0\n",
      "9968     4.0\n",
      "9970     3.0\n",
      "9971     4.0\n",
      "9974     3.0\n",
      "9975     9.0\n",
      "9976     5.0\n",
      "9977    11.0\n",
      "9978     6.0\n",
      "9979     3.0\n",
      "9980     3.0\n",
      "9981     7.0\n",
      "9983     4.0\n",
      "9984     8.0\n",
      "9985     7.0\n",
      "9987     3.0\n",
      "9988     8.0\n",
      "9989     5.0\n",
      "9990     0.0\n",
      "9991     5.0\n",
      "9992     0.0\n",
      "9993     2.0\n",
      "9995     3.0\n",
      "9996     3.0\n",
      "9999     7.0\n",
      "Name: dispatch_time, Length: 7721, dtype: float64>\n"
     ]
    }
   ],
   "source": [
    "# work with new copy of dataframe for analysis of lat, lon, dispatch time, dispatch type (unit_type)\n",
    "\n",
    "dfg2 = pdf\n",
    "cols = list(dfg2)\n",
    "l = ['latitude', 'longitude', 'entry_timestamp', 'on_scene_timestamp', 'unit_type']\n",
    "for i in range(0, len(l)): cols.remove(l[i]) \n",
    "# cols is now a list of all the columns in the df that must be removed\n",
    "\n",
    "# cleanse data \n",
    "dfg2 = dfg2.drop(cols, axis=1)\n",
    "# cleansing data of time values that are NaN\n",
    "dfg2 = dfg2.dropna(axis=0)\n",
    "    \n",
    "# create column of time taken to dispatch (difference between received and on_scene timestamps)\n",
    "dfg2['entry_timestamp'] = pd.to_datetime(dfg2['entry_timestamp'])\n",
    "dfg2['on_scene_timestamp'] = pd.to_datetime(dfg2['on_scene_timestamp'])\n",
    "dfg2['dispatch_time'] = (dfg2['on_scene_timestamp'] - dfg2['entry_timestamp'])\n",
    "dfg2['dispatch_time'] = dfg2['dispatch_time'].astype('timedelta64[m]')\n",
    "dfg2 = dfg2.drop(axis=1, labels=['entry_timestamp', 'on_scene_timestamp'])\n",
    "\n",
    "#dataframe for scatter plot\n",
    "dfs = dfg2.drop(axis=1, labels='dispatch_time', inplace=False)\n",
    "#dataframe for heat map\n",
    "dfh = dfg2.drop(axis=1, labels='unit_type', inplace=False)\n",
    "dfs['unit_type'] = dfs['unit_type'].astype('category')\n",
    "dfh = dfh.drop(dfh[dfh.dispatch_time>20].index)\n",
    "# changeb = changeb.drop(changeb[changeb.increase < 1000].index)\n",
    "print(set(np.asarray(dfs['unit_type'])))\n",
    "print(dfh['latitude'].values.max())\n",
    "print(dfh['longitude'].values.max())\n",
    "print(dfh['latitude'].values.min())\n",
    "print(dfh['longitude'].values.min())\n",
    "print(dfh['dispatch_time'].tolist)"
   ]
  },
  {
   "cell_type": "code",
   "execution_count": 241,
   "metadata": {},
   "outputs": [
    {
     "data": {
      "text/html": [
       "<script>requirejs.config({paths: { 'plotly': ['https://cdn.plot.ly/plotly-latest.min']},});if(!window.Plotly) {{require(['plotly'],function(plotly) {window.Plotly=plotly;});}}</script>"
      ],
      "text/vnd.plotly.v1+html": [
       "<script>requirejs.config({paths: { 'plotly': ['https://cdn.plot.ly/plotly-latest.min']},});if(!window.Plotly) {{require(['plotly'],function(plotly) {window.Plotly=plotly;});}}</script>"
      ]
     },
     "metadata": {},
     "output_type": "display_data"
    },
    {
     "name": "stdout",
     "output_type": "stream",
     "text": [
      "High five! You successfully sent some data to your account on plotly. View your plot in your browser at https://plot.ly/~aarushiw/0 or inside your plot.ly account where it is named 'pandas-heatmap'\n"
     ]
    },
    {
     "data": {
      "text/html": [
       "<iframe id=\"igraph\" scrolling=\"no\" style=\"border:none;\" seamless=\"seamless\" src=\"https://plot.ly/~aarushiw/0.embed\" height=\"525px\" width=\"100%\"></iframe>"
      ],
      "text/plain": [
       "<plotly.tools.PlotlyDisplay object>"
      ]
     },
     "execution_count": 241,
     "metadata": {},
     "output_type": "execute_result"
    }
   ],
   "source": [
    "import plotly\n",
    "plotly.tools.set_credentials_file(username='aarushiw', api_key='ZhzGXF6zXnqwnxYQZGIe')\n",
    "import plotly.graph_objs as go\n",
    "import plotly.tools as tls\n",
    "import plotly.plotly as py\n",
    "from plotly.offline import download_plotlyjs, init_notebook_mode, plot, iplot\n",
    "init_notebook_mode(connected=True)\n",
    "\n",
    "\n",
    "\n",
    "data = [go.Heatmap( z=dfh['dispatch_time'].values.tolist(), \n",
    "                   x=dfh['latitude'].values.tolist(),\n",
    "                   y=dfh['longitude'].values.tolist(),\n",
    "                   colorscale='Viridis')]\n",
    "py.iplot(data, filename='pandas-heatmap', title='Dispatch Time')\n"
   ]
  },
  {
   "cell_type": "code",
   "execution_count": null,
   "metadata": {
    "collapsed": true
   },
   "outputs": [],
   "source": []
  }
 ],
 "metadata": {
  "kernelspec": {
   "display_name": "Python 3",
   "language": "python",
   "name": "python3"
  },
  "language_info": {
   "codemirror_mode": {
    "name": "ipython",
    "version": 3
   },
   "file_extension": ".py",
   "mimetype": "text/x-python",
   "name": "python",
   "nbconvert_exporter": "python",
   "pygments_lexer": "ipython3",
   "version": "3.6.3"
  }
 },
 "nbformat": 4,
 "nbformat_minor": 2
}
